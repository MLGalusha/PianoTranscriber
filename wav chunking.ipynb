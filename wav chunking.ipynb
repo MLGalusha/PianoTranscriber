{
 "cells": [
  {
   "cell_type": "code",
   "execution_count": 1,
   "metadata": {},
   "outputs": [],
   "source": [
    "import os\n",
    "import librosa\n",
    "import numpy as np\n",
    "import soundfile as sf\n",
    "import glob"
   ]
  },
  {
   "cell_type": "code",
   "execution_count": 7,
   "metadata": {},
   "outputs": [],
   "source": [
    "def split_audio_into_chunks_from_folder(folder_path, chunk_length=60, min_last_chunk_duration=30):\n",
    "    \"\"\"\n",
    "    Splits all audio files (MP3 or WAV) in a given folder into chunks of a specified length (in seconds).\n",
    "    Pads the last chunk if necessary to make it exactly chunk_length in duration, or deletes it if its duration is shorter\n",
    "    than a specified minimum duration.\n",
    "\n",
    "    :param folder_path: Path to the folder containing MP3 or WAV files\n",
    "    :param chunk_length: Length of each chunk in seconds (default: 60 seconds)\n",
    "    :param min_last_chunk_duration: Minimum duration in seconds for the last chunk. If the last chunk is shorter than this, it will be deleted (default: 30 seconds).\n",
    "    \"\"\"\n",
    "    # Get all MP3 and WAV files in the folder\n",
    "    audio_files = glob.glob(os.path.join(folder_path, '*.wav'))\n",
    "    \n",
    "    # Iterate over each audio file in the folder\n",
    "    for file_path in audio_files:\n",
    "        print(f\"Processing {file_path}...\")\n",
    "        \n",
    "        # Load the audio file using librosa\n",
    "        y, sr = librosa.load(file_path, sr=None)  # Load audio at original sample rate\n",
    "        \n",
    "        # Calculate the number of samples per chunk (1-minute chunk)\n",
    "        chunk_samples = chunk_length * sr\n",
    "        \n",
    "        # Calculate how many chunks we need (including padding if necessary)\n",
    "        num_chunks = int(np.ceil(len(y) / chunk_samples))\n",
    "        \n",
    "        # Create a directory for the chunks if it doesn't exist\n",
    "        output_dir = os.path.join(folder_path, 'chunks')\n",
    "        os.makedirs(output_dir, exist_ok=True)\n",
    "        \n",
    "        # Extract the filename without the extension to make the chunk names unique\n",
    "        base_filename = os.path.splitext(os.path.basename(file_path))[0]\n",
    "        \n",
    "        # Process and save each chunk\n",
    "        for i in range(num_chunks):\n",
    "            start_sample = i * chunk_samples\n",
    "            end_sample = min((i + 1) * chunk_samples, len(y))\n",
    "            \n",
    "            # Extract the chunk\n",
    "            chunk = y[start_sample:end_sample]\n",
    "            \n",
    "            # Check if this is the last chunk\n",
    "            if len(chunk) < chunk_samples:\n",
    "                # Calculate the duration of the last chunk in seconds\n",
    "                last_chunk_duration = len(chunk) / sr\n",
    "                \n",
    "                # If the last chunk is shorter than the minimum duration, skip saving it\n",
    "                if last_chunk_duration < min_last_chunk_duration:\n",
    "                    print(f\"Chunk {i + 1} is shorter than {min_last_chunk_duration} seconds and will be discarded.\")\n",
    "                    continue  # Skip this chunk\n",
    "                \n",
    "                # Pad the chunk if it's shorter than chunk_length (but not too short)\n",
    "                pad_length = chunk_samples - len(chunk)\n",
    "                chunk = np.pad(chunk, (0, pad_length), mode='constant', constant_values=0)\n",
    "            \n",
    "            # Create a unique filename for the chunk\n",
    "            output_path = os.path.join(output_dir, f'{base_filename}_chunk_{i + 1}.wav')\n",
    "            \n",
    "            # Save the chunk as a separate WAV file\n",
    "            sf.write(output_path, chunk, sr)\n",
    "            print(f\"Saved chunk {i + 1} to {output_path}\")\n",
    "\n"
   ]
  },
  {
   "cell_type": "code",
   "execution_count": null,
   "metadata": {},
   "outputs": [],
   "source": [
    "# Example usage: Process all MP3 and WAV files in the folder\n",
    "folder_path = \"wavs/\"  # Set the folder containing your audio files (MP3/WAV)\n",
    "split_audio_into_chunks_from_folder(folder_path)\n"
   ]
  },
  {
   "cell_type": "code",
   "execution_count": null,
   "metadata": {},
   "outputs": [],
   "source": []
  }
 ],
 "metadata": {
  "kernelspec": {
   "display_name": "REALDEV",
   "language": "python",
   "name": "python3"
  },
  "language_info": {
   "codemirror_mode": {
    "name": "ipython",
    "version": 3
   },
   "file_extension": ".py",
   "mimetype": "text/x-python",
   "name": "python",
   "nbconvert_exporter": "python",
   "pygments_lexer": "ipython3",
   "version": "3.10.15"
  }
 },
 "nbformat": 4,
 "nbformat_minor": 2
}
